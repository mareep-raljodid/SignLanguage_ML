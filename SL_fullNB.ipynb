{
 "cells": [
  {
   "cell_type": "code",
   "execution_count": 1,
   "metadata": {},
   "outputs": [
    {
     "name": "stderr",
     "output_type": "stream",
     "text": [
      "/anaconda3/lib/python3.7/site-packages/tensorflow/python/framework/dtypes.py:516: FutureWarning: Passing (type, 1) or '1type' as a synonym of type is deprecated; in a future version of numpy, it will be understood as (type, (1,)) / '(1,)type'.\n",
      "  _np_qint8 = np.dtype([(\"qint8\", np.int8, 1)])\n",
      "/anaconda3/lib/python3.7/site-packages/tensorflow/python/framework/dtypes.py:517: FutureWarning: Passing (type, 1) or '1type' as a synonym of type is deprecated; in a future version of numpy, it will be understood as (type, (1,)) / '(1,)type'.\n",
      "  _np_quint8 = np.dtype([(\"quint8\", np.uint8, 1)])\n",
      "/anaconda3/lib/python3.7/site-packages/tensorflow/python/framework/dtypes.py:518: FutureWarning: Passing (type, 1) or '1type' as a synonym of type is deprecated; in a future version of numpy, it will be understood as (type, (1,)) / '(1,)type'.\n",
      "  _np_qint16 = np.dtype([(\"qint16\", np.int16, 1)])\n",
      "/anaconda3/lib/python3.7/site-packages/tensorflow/python/framework/dtypes.py:519: FutureWarning: Passing (type, 1) or '1type' as a synonym of type is deprecated; in a future version of numpy, it will be understood as (type, (1,)) / '(1,)type'.\n",
      "  _np_quint16 = np.dtype([(\"quint16\", np.uint16, 1)])\n",
      "/anaconda3/lib/python3.7/site-packages/tensorflow/python/framework/dtypes.py:520: FutureWarning: Passing (type, 1) or '1type' as a synonym of type is deprecated; in a future version of numpy, it will be understood as (type, (1,)) / '(1,)type'.\n",
      "  _np_qint32 = np.dtype([(\"qint32\", np.int32, 1)])\n",
      "/anaconda3/lib/python3.7/site-packages/tensorflow/python/framework/dtypes.py:525: FutureWarning: Passing (type, 1) or '1type' as a synonym of type is deprecated; in a future version of numpy, it will be understood as (type, (1,)) / '(1,)type'.\n",
      "  np_resource = np.dtype([(\"resource\", np.ubyte, 1)])\n",
      "/anaconda3/lib/python3.7/site-packages/tensorboard/compat/tensorflow_stub/dtypes.py:541: FutureWarning: Passing (type, 1) or '1type' as a synonym of type is deprecated; in a future version of numpy, it will be understood as (type, (1,)) / '(1,)type'.\n",
      "  _np_qint8 = np.dtype([(\"qint8\", np.int8, 1)])\n",
      "/anaconda3/lib/python3.7/site-packages/tensorboard/compat/tensorflow_stub/dtypes.py:542: FutureWarning: Passing (type, 1) or '1type' as a synonym of type is deprecated; in a future version of numpy, it will be understood as (type, (1,)) / '(1,)type'.\n",
      "  _np_quint8 = np.dtype([(\"quint8\", np.uint8, 1)])\n",
      "/anaconda3/lib/python3.7/site-packages/tensorboard/compat/tensorflow_stub/dtypes.py:543: FutureWarning: Passing (type, 1) or '1type' as a synonym of type is deprecated; in a future version of numpy, it will be understood as (type, (1,)) / '(1,)type'.\n",
      "  _np_qint16 = np.dtype([(\"qint16\", np.int16, 1)])\n",
      "/anaconda3/lib/python3.7/site-packages/tensorboard/compat/tensorflow_stub/dtypes.py:544: FutureWarning: Passing (type, 1) or '1type' as a synonym of type is deprecated; in a future version of numpy, it will be understood as (type, (1,)) / '(1,)type'.\n",
      "  _np_quint16 = np.dtype([(\"quint16\", np.uint16, 1)])\n",
      "/anaconda3/lib/python3.7/site-packages/tensorboard/compat/tensorflow_stub/dtypes.py:545: FutureWarning: Passing (type, 1) or '1type' as a synonym of type is deprecated; in a future version of numpy, it will be understood as (type, (1,)) / '(1,)type'.\n",
      "  _np_qint32 = np.dtype([(\"qint32\", np.int32, 1)])\n",
      "/anaconda3/lib/python3.7/site-packages/tensorboard/compat/tensorflow_stub/dtypes.py:550: FutureWarning: Passing (type, 1) or '1type' as a synonym of type is deprecated; in a future version of numpy, it will be understood as (type, (1,)) / '(1,)type'.\n",
      "  np_resource = np.dtype([(\"resource\", np.ubyte, 1)])\n"
     ]
    }
   ],
   "source": [
    "import numpy as np\n",
    "import os\n",
    "import cv2 as cv2\n",
    "import matplotlib.pyplot as plt\n",
    "import random\n",
    "import tensorflow as tf\n",
    "from tensorflow.keras.models import Sequential\n",
    "from tensorflow.keras.layers import Dense, Dropout, Activation, Flatten, Conv2D, MaxPooling2D\n",
    "import tensorflow as tf\n",
    "from tensorflow.keras.models import Sequential\n",
    "from tensorflow.keras.layers import Dense, Dropout, Activation, Flatten, Conv2D, MaxPooling2D\n",
    "from tensorflow.keras.optimizers import RMSprop\n"
   ]
  },
  {
   "cell_type": "code",
   "execution_count": 2,
   "metadata": {},
   "outputs": [],
   "source": [
    "Dir = 'asl'\n",
    "catg = [\"0\",\"1\",\"2\",\"3\",\"4\",\"5\",\"6\",\"7\",\"8\",\"9\",\"10\",\"11\",\"12\",\"13\",\n",
    "\"14\",\"15\",\"16\",\"17\",\"18\",\"19\",\"20\",\"21\",\"22\",\"23\",\"24\",\"25\",\"26\",\"27\",\n",
    "\"28\",\"29\",\"30\",\"31\",\"32\",\"33\",\"34\",\"35\"]"
   ]
  },
  {
   "cell_type": "code",
   "execution_count": 3,
   "metadata": {},
   "outputs": [],
   "source": [
    "train = []\n",
    "size = 200\n",
    "def create_tr():\n",
    "    for c in catg:\n",
    "        path=os.path.join(Dir, c)\n",
    "        class_nnn= catg.index(c)\n",
    "        for img in os.listdir(path):\n",
    "            imgax = cv2.imread(os.path.join(path,img), cv2.IMREAD_GRAYSCALE) #grayscale\n",
    "            imgar = cv2.resize(imgax, (size, size))\n",
    "            train.append([imgar, class_nnn])\n",
    "\n",
    "\n",
    "create_tr()"
   ]
  },
  {
   "cell_type": "code",
   "execution_count": 4,
   "metadata": {},
   "outputs": [
    {
     "name": "stdout",
     "output_type": "stream",
     "text": [
      "Number of elements in training set:  25291\n"
     ]
    }
   ],
   "source": [
    "print(\"Number of elements in training set: \", len(train))\n",
    "random.shuffle(train)\n",
    "\n",
    "tX = []\n",
    "tY = []\n",
    "\n",
    "for features, label in train:\n",
    "    tX.append(features)\n",
    "    tY.append(label)\n",
    "    \n",
    "tX = np.array(tX).reshape(-1, size, size, 1) #1 not 3\n",
    "tX = tX / 255.0"
   ]
  },
  {
   "cell_type": "code",
   "execution_count": 8,
   "metadata": {},
   "outputs": [],
   "source": [
    "class myCallback(tf.keras.callbacks.Callback):\n",
    "  def on_epoch_end(self, epoch, logs={}):\n",
    "    if(logs.get('acc')>0.99):\n",
    "      print(\"\\nReached 99% accuracy so cancelling training!\")\n",
    "      self.model.stop_training = True\n",
    "\n",
    "callbacks1 = myCallback()\n",
    "checkpoint_path = \"Pretrained_Model/cp.ckpt\"\n",
    "checkpoint_dir = os.path.dirname(checkpoint_path)\n",
    "cp_callback = tf.keras.callbacks.ModelCheckpoint(checkpoint_path,\n",
    "                                                 save_weights_only=True,\n",
    "                                                 verbose=1)"
   ]
  },
  {
   "cell_type": "code",
   "execution_count": 9,
   "metadata": {},
   "outputs": [
    {
     "name": "stdout",
     "output_type": "stream",
     "text": [
      "Model: \"sequential_1\"\n",
      "_________________________________________________________________\n",
      "Layer (type)                 Output Shape              Param #   \n",
      "=================================================================\n",
      "conv2d_5 (Conv2D)            (None, 200, 200, 64)      640       \n",
      "_________________________________________________________________\n",
      "conv2d_6 (Conv2D)            (None, 200, 200, 64)      36928     \n",
      "_________________________________________________________________\n",
      "max_pooling2d_4 (MaxPooling2 (None, 66, 66, 64)        0         \n",
      "_________________________________________________________________\n",
      "conv2d_7 (Conv2D)            (None, 66, 66, 128)       73856     \n",
      "_________________________________________________________________\n",
      "max_pooling2d_5 (MaxPooling2 (None, 22, 22, 128)       0         \n",
      "_________________________________________________________________\n",
      "conv2d_8 (Conv2D)            (None, 20, 20, 64)        73792     \n",
      "_________________________________________________________________\n",
      "max_pooling2d_6 (MaxPooling2 (None, 10, 10, 64)        0         \n",
      "_________________________________________________________________\n",
      "conv2d_9 (Conv2D)            (None, 8, 8, 32)          18464     \n",
      "_________________________________________________________________\n",
      "max_pooling2d_7 (MaxPooling2 (None, 4, 4, 32)          0         \n",
      "_________________________________________________________________\n",
      "dense_4 (Dense)              (None, 4, 4, 1024)        33792     \n",
      "_________________________________________________________________\n",
      "dense_5 (Dense)              (None, 4, 4, 512)         524800    \n",
      "_________________________________________________________________\n",
      "flatten_1 (Flatten)          (None, 8192)              0         \n",
      "_________________________________________________________________\n",
      "dense_6 (Dense)              (None, 1013)              8299509   \n",
      "_________________________________________________________________\n",
      "dense_7 (Dense)              (None, 36)                36504     \n",
      "=================================================================\n",
      "Total params: 9,098,285\n",
      "Trainable params: 9,098,285\n",
      "Non-trainable params: 0\n",
      "_________________________________________________________________\n"
     ]
    }
   ],
   "source": [
    "model = tf.keras.models.Sequential([\n",
    "        tf.keras.layers.Conv2D(64, kernel_size = [3,3], padding = 'same', activation = 'relu', input_shape = tX.shape[1:]),\n",
    "        tf.keras.layers.Conv2D(64, kernel_size = [3,3], padding = 'same', activation = 'relu'),\n",
    "        tf.keras.layers.MaxPool2D(pool_size = [3,3]),\n",
    "        tf.keras.layers.Conv2D(128, kernel_size = [3,3], padding = 'same', activation = 'relu'),\n",
    "        tf.keras.layers.MaxPooling2D(3,3),\n",
    "        tf.keras.layers.Conv2D(64, (3,3), activation='relu'),\n",
    "        tf.keras.layers.MaxPooling2D(2,2), \n",
    "        tf.keras.layers.Conv2D(32, (3,3), activation='relu'), \n",
    "        tf.keras.layers.MaxPooling2D(2,2),\n",
    "        tf.keras.layers.Dense(1024, activation = 'relu'),\n",
    "        tf.keras.layers.Dense(512, activation = 'relu'),\n",
    "        tf.keras.layers.Flatten(), \n",
    "        tf.keras.layers.Dense(1013, activation='relu'), \n",
    "        tf.keras.layers.Dense(36, activation='softmax')  \n",
    "    ])\n",
    "\n",
    "\n",
    "\n",
    "model.summary()\n",
    "model.compile(optimizer=RMSprop(lr=0.001),\n",
    "              loss='sparse_categorical_crossentropy',\n",
    "              metrics = ['acc'])\n",
    "\n",
    "#model.fit(tX, tY, batch_size=25, validation_split=0.10, epochs = 10, callbacks=[callbacks1, cp_callback])"
   ]
  },
  {
   "cell_type": "code",
   "execution_count": 10,
   "metadata": {},
   "outputs": [
    {
     "name": "stdout",
     "output_type": "stream",
     "text": [
      "25291/25291 [==============================] - 1183s 47ms/sample - loss: 0.0290 - acc: 0.9898\n",
      "Restored model, accuracy: 98.98%\n"
     ]
    }
   ],
   "source": [
    "\n",
    "model.load_weights(checkpoint_path)\n",
    "loss,acc = model.evaluate(tX, tY)\n",
    "print(\"Restored model, accuracy: {:5.2f}%\".format(100*acc))\n"
   ]
  },
  {
   "cell_type": "code",
   "execution_count": 12,
   "metadata": {},
   "outputs": [
    {
     "name": "stdout",
     "output_type": "stream",
     "text": [
      "Enter the path to the image you would like to predict: /Users/rajdeepbandopadhyay/Desktop/SignLanguage_ML/photo.jpg\n",
      "R\n",
      "Enter exit to stop or return to keep predicting./Users/rajdeepbandopadhyay/Desktop/SignLanguage_ML/photo.jpg\n",
      "Enter the path to the image you would like to predict: /Users/rajdeepbandopadhyay/Desktop/SignLanguage_ML/photo.jpg\n",
      "R\n",
      "Enter exit to stop or return to keep predicting.e\n",
      "Enter the path to the image you would like to predict: /Users/rajdeepbandopadhyay/Desktop/rr.jpg\n",
      "N\n",
      "Enter exit to stop or return to keep predicting./Users/rajdeepbandopadhyay/Desktop/p.jpg\n",
      "Enter the path to the image you would like to predict: /Users/rajdeepbandopadhyay/Desktop/p.jpg\n",
      "O\n",
      "Enter exit to stop or return to keep predicting.exit\n"
     ]
    }
   ],
   "source": [
    "zzx = \"\"\n",
    "while zzx != \"exit\":\n",
    "\n",
    "      path_to_pic = input(\"Enter the path to the image you would like to predict: \")\n",
    "      imgax4 = cv2.imread(os.path.join(path_to_pic), cv2.IMREAD_GRAYSCALE)\n",
    "      imgar4 = cv2.resize(imgax4, (size, size))\n",
    "\n",
    "      ttX = []\n",
    "      for feature in imgar4:\n",
    "          ttX.append(feature)\n",
    "          \n",
    "      ttX = np.array(ttX).reshape(-1, size, size, 1)\n",
    "      eer = model.predict(ttX)\n",
    "      z = np.where(eer == 1)\n",
    "      if z[1]>9:\n",
    "          prediction = chr((z[1]-10) + 65)\n",
    "          print(prediction)\n",
    "      else:\n",
    "          prediction = int(z[1])\n",
    "          print(prediction)\n",
    "      zzx = input(\"Enter exit to stop or return to keep predicting.\")"
   ]
  },
  {
   "cell_type": "code",
   "execution_count": null,
   "metadata": {},
   "outputs": [],
   "source": []
  }
 ],
 "metadata": {
  "kernelspec": {
   "display_name": "Python 3",
   "language": "python",
   "name": "python3"
  },
  "language_info": {
   "codemirror_mode": {
    "name": "ipython",
    "version": 3
   },
   "file_extension": ".py",
   "mimetype": "text/x-python",
   "name": "python",
   "nbconvert_exporter": "python",
   "pygments_lexer": "ipython3",
   "version": "3.7.3"
  }
 },
 "nbformat": 4,
 "nbformat_minor": 2
}
